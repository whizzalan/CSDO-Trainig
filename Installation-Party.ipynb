{
 "cells": [
  {
   "cell_type": "code",
   "execution_count": 1,
   "metadata": {},
   "outputs": [],
   "source": [
    "import sqlalchemy"
   ]
  },
  {
   "cell_type": "code",
   "execution_count": 5,
   "metadata": {},
   "outputs": [
    {
     "name": "stdout",
     "output_type": "stream",
     "text": [
      "alembic-0.9.6.tar.gz\r\n",
      "bokeh-0.12.10.tar.gz\r\n",
      "certifi-2017.7.27.1-py2.py3-none-any.whl\r\n",
      "chardet-3.0.4-py2.py3-none-any.whl\r\n",
      "cycler-0.10.0-py2.py3-none-any.whl\r\n",
      "decorator-4.1.2-py2.py3-none-any.whl\r\n",
      "entrypoints-0.2.3-py2.py3-none-any.whl\r\n",
      "h5py\r\n",
      "h5py-2.5.0.tar.gz\r\n",
      "h5py-2.7.1-cp36-cp36m-manylinux1_x86_64.whl\r\n",
      "h5py-2.7.1.tar.gz\r\n",
      "ipykernel-4.6.1-py3-none-any.whl\r\n",
      "ipython-6.2.1.tar.gz\r\n",
      "ipython_genutils-0.2.0-py2.py3-none-any.whl\r\n",
      "jedi-0.11.0-py2.py3-none-any.whl\r\n",
      "Jinja2-2.9.6-py2.py3-none-any.whl\r\n",
      "jsonschema-2.6.0-py2.py3-none-any.whl\r\n",
      "jupyter-1.0.0-py2.py3-none-any.whl\r\n",
      "jupyter-1.0.0.tar.gz\r\n",
      "jupyter_client-5.1.0-py2.py3-none-any.whl\r\n",
      "jupyter_core-4.3.0-py2.py3-none-any.whl\r\n",
      "jupyterhub-0.8.0-py3-none-any.whl\r\n",
      "libhdf5-dev_1.8.16+docs-4ubuntu1_amd64.deb\r\n",
      "Mako-1.0.7.tar.gz\r\n",
      "MarkupSafe-1.0.tar.gz\r\n",
      "matplotlib-2.0.2.tar.gz\r\n",
      "mistune-0.7.4-py2.py3-none-any.whl\r\n",
      "nbconvert-5.3.1-py2.py3-none-any.whl\r\n",
      "nbformat-4.4.0-py2.py3-none-any.whl\r\n",
      "notebook-5.2.0.tar.gz\r\n",
      "numpy-1.13.2.zip\r\n",
      "pandas-0.20.3.tar.gz\r\n",
      "pandocfilters-1.4.2.tar.gz\r\n",
      "parso-0.1.0-py2.py3-none-any.whl\r\n",
      "pexpect-4.2.1-py2.py3-none-any.whl\r\n",
      "pickleshare-0.7.4-py2.py3-none-any.whl\r\n",
      "pickleshare-0.7.4.tar.gz\r\n",
      "ptyprocess-0.5.2-py2.py3-none-any.whl\r\n",
      "Pygments-2.2.0.tar.gz\r\n",
      "pyparsing-2.2.0.tar.gz\r\n",
      "python-editor-1.0.3.tar.gz\r\n",
      "pyzmq-17.0.0b1-cp36-cp36m-manylinux1_x86_64.whl\r\n",
      "requests-2.18.4-py2.py3-none-any.whl\r\n",
      "scikit-learn-0.18.1.tar.gz\r\n",
      "scipy-0.19.1.tar.gz\r\n",
      "seaborn-0.8.1.tar.gz\r\n",
      "simplegeneric-0.8.1.zip\r\n",
      "sklearn-0.0-py2.py3-none-any.whl\r\n",
      "SQLAlchemy-1.2.0b3.tar.gz\r\n",
      "terminado-0.6.tar.gz\r\n",
      "testpath-0.3.1-py2.py3-none-any.whl\r\n",
      "tornado-4.5.2-cp36-cp36m-win_amd64.whl\r\n",
      "tornado-4.5.2.tar.gz\r\n",
      "traitlets-4.3.2-py2.py3-none-any.whl\r\n",
      "urllib3-1.22-py2.py3-none-any.whl\r\n"
     ]
    }
   ],
   "source": [
    "!ls Packages/"
   ]
  },
  {
   "cell_type": "code",
   "execution_count": 6,
   "metadata": {},
   "outputs": [
    {
     "name": "stdout",
     "output_type": "stream",
     "text": [
      "Processing ./Packages/cycler-0.10.0-py2.py3-none-any.whl\n",
      "Requirement already satisfied: six in /opt/anaconda3-4.4.0/envs/jupyterhub-tutorial/lib/python3.6/site-packages (from cycler==0.10.0)\n",
      "Installing collected packages: cycler\n",
      "Successfully installed cycler-0.10.0\n"
     ]
    }
   ],
   "source": [
    "!python -m pip install Packages/cycler-0.10.0-py2.py3-none-any.whl --user"
   ]
  },
  {
   "cell_type": "code",
   "execution_count": 10,
   "metadata": {},
   "outputs": [
    {
     "name": "stdout",
     "output_type": "stream",
     "text": [
      "Processing ./Packages/pyparsing-2.2.0.tar.gz\n",
      "Building wheels for collected packages: pyparsing\n",
      "  Running setup.py bdist_wheel for pyparsing ... \u001b[?25ldone\n",
      "\u001b[?25h  Stored in directory: /home/george/.cache/pip/wheels/72/51/ec/1ebc0f3850da7fcb9750a2a3fa2c7215d0baaa812c0ca7e83a\n",
      "Successfully built pyparsing\n",
      "Installing collected packages: pyparsing\n",
      "Successfully installed pyparsing-2.2.0\n"
     ]
    }
   ],
   "source": [
    "!python -m pip install Packages/pyparsing-2.2.0.tar.gz --user"
   ]
  },
  {
   "cell_type": "code",
   "execution_count": 11,
   "metadata": {
    "scrolled": true
   },
   "outputs": [
    {
     "name": "stdout",
     "output_type": "stream",
     "text": [
      "Processing ./Packages/matplotlib-2.0.2.tar.gz\n",
      "Requirement already satisfied: numpy>=1.7.1 in /opt/anaconda3-4.4.0/envs/jupyterhub-tutorial/lib/python3.6/site-packages (from matplotlib==2.0.2)\n",
      "Requirement already satisfied: six>=1.10 in /opt/anaconda3-4.4.0/envs/jupyterhub-tutorial/lib/python3.6/site-packages (from matplotlib==2.0.2)\n",
      "Requirement already satisfied: python-dateutil in ./.local/lib/python3.6/site-packages (from matplotlib==2.0.2)\n",
      "Requirement already satisfied: pytz in ./.local/lib/python3.6/site-packages (from matplotlib==2.0.2)\n",
      "Requirement already satisfied: cycler>=0.10 in ./.local/lib/python3.6/site-packages (from matplotlib==2.0.2)\n",
      "Requirement already satisfied: pyparsing!=2.0.4,!=2.1.2,!=2.1.6,>=1.5.6 in ./.local/lib/python3.6/site-packages (from matplotlib==2.0.2)\n",
      "Building wheels for collected packages: matplotlib\n",
      "  Running setup.py bdist_wheel for matplotlib ... \u001b[?25ldone\n",
      "\u001b[?25h  Stored in directory: /home/george/.cache/pip/wheels/83/d1/73/10faa49348dcb9d0aa6f2b2d47193677ba408e52df0a7d3f23\n",
      "Successfully built matplotlib\n",
      "Installing collected packages: matplotlib\n",
      "Successfully installed matplotlib-2.0.2\n"
     ]
    }
   ],
   "source": [
    "!python -m pip install Packages/matplotlib-2.0.2.tar.gz --user"
   ]
  },
  {
   "cell_type": "code",
   "execution_count": 12,
   "metadata": {},
   "outputs": [
    {
     "name": "stdout",
     "output_type": "stream",
     "text": [
      "Processing ./Packages/seaborn-0.8.1.tar.gz\n",
      "Building wheels for collected packages: seaborn\n",
      "  Running setup.py bdist_wheel for seaborn ... \u001b[?25ldone\n",
      "\u001b[?25h  Stored in directory: /home/george/.cache/pip/wheels/9b/00/73/3d396186c5550ccec2ea25ae3bd65ef373f868192472e1246b\n",
      "Successfully built seaborn\n",
      "Installing collected packages: seaborn\n",
      "Successfully installed seaborn-0.8.1\n"
     ]
    }
   ],
   "source": [
    "!python -m pip install Packages/seaborn-0.8.1.tar.gz --user"
   ]
  },
  {
   "cell_type": "code",
   "execution_count": 19,
   "metadata": {},
   "outputs": [],
   "source": [
    "λ = 123"
   ]
  },
  {
   "cell_type": "code",
   "execution_count": 20,
   "metadata": {},
   "outputs": [
    {
     "name": "stdout",
     "output_type": "stream",
     "text": [
      "CPU times: user 0 ns, sys: 0 ns, total: 0 ns\n",
      "Wall time: 9.06 µs\n"
     ]
    }
   ],
   "source": [
    "%time"
   ]
  },
  {
   "cell_type": "code",
   "execution_count": 16,
   "metadata": {},
   "outputs": [],
   "source": [
    "%matplotlib inline"
   ]
  },
  {
   "cell_type": "code",
   "execution_count": 18,
   "metadata": {
    "scrolled": false
   },
   "outputs": [
    {
     "data": {
      "image/png": "[encoded data removed]",
      "text/plain": [
       "<matplotlib.figure.Figure at 0x7fbe4f936ef0>"
      ]
     },
     "metadata": {},
     "output_type": "display_data"
    }
   ],
   "source": [
    "import numpy as np\n",
    "import seaborn as sns\n",
    "import matplotlib.pyplot as plt\n",
    "sns.set(style=\"white\", context=\"talk\")\n",
    "rs = np.random.RandomState(7)\n",
    "\n",
    "# Set up the matplotlib figure\n",
    "f, (ax1, ax2, ax3) = plt.subplots(3, 1, figsize=(8, 6), sharex=True)\n",
    "\n",
    "# Generate some sequential data\n",
    "x = np.array(list(\"ABCDEFGHI\"))\n",
    "y1 = np.arange(1, 10)\n",
    "sns.barplot(x, y1, palette=\"BuGn_d\", ax=ax1)\n",
    "ax1.set_ylabel(\"Sequential\")\n",
    "\n",
    "# Center the data to make it diverging\n",
    "y2 = y1 - 5\n",
    "sns.barplot(x, y2, palette=\"RdBu_r\", ax=ax2)\n",
    "ax2.set_ylabel(\"Diverging\")\n",
    "\n",
    "# Randomly reorder the data to make it qualitative\n",
    "y3 = rs.choice(y1, 9, replace=False)\n",
    "sns.barplot(x, y3, palette=\"Set3\", ax=ax3)\n",
    "ax3.set_ylabel(\"Qualitative\")\n",
    "\n",
    "# Finalize the plot\n",
    "sns.despine(bottom=True)\n",
    "plt.setp(f.axes, yticks=[])\n",
    "plt.tight_layout(h_pad=3)"
   ]
  },
  {
   "cell_type": "markdown",
   "metadata": {},
   "source": [
    "#### jupyter "
   ]
  },
  {
   "cell_type": "code",
   "execution_count": null,
   "metadata": {},
   "outputs": [],
   "source": []
  }
 ],
 "metadata": {
  "kernelspec": {
   "display_name": "Python 3",
   "language": "python",
   "name": "python3"
  },
  "language_info": {
   "codemirror_mode": {
    "name": "ipython",
    "version": 3
   },
   "file_extension": ".py",
   "mimetype": "text/x-python",
   "name": "python",
   "nbconvert_exporter": "python",
   "pygments_lexer": "ipython3",
   "version": "3.6.2"
  }
 },
 "nbformat": 4,
 "nbformat_minor": 2
}
